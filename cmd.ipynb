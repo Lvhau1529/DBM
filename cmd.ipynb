{
  "nbformat": 4,
  "nbformat_minor": 0,
  "metadata": {
    "colab": {
      "provenance": [],
      "include_colab_link": true
    },
    "kernelspec": {
      "name": "python3",
      "display_name": "Python 3"
    },
    "language_info": {
      "name": "python"
    },
    "gpuClass": "standard"
  },
  "cells": [
    {
      "cell_type": "markdown",
      "metadata": {
        "id": "view-in-github",
        "colab_type": "text"
      },
      "source": [
        "<a href=\"https://colab.research.google.com/github/Lvhau1529/DBM/blob/main/cmd.ipynb\" target=\"_parent\"><img src=\"https://colab.research.google.com/assets/colab-badge.svg\" alt=\"Open In Colab\"/></a>"
      ]
    },
    {
      "cell_type": "code",
      "source": [
        "from google.colab import drive\n",
        "drive.mount('/content/drive')"
      ],
      "metadata": {
        "colab": {
          "base_uri": "https://localhost:8080/"
        },
        "id": "wyO7aXIBu81v",
        "outputId": "1139a617-68b4-4137-df60-4bac6848d719"
      },
      "execution_count": 4,
      "outputs": [
        {
          "output_type": "stream",
          "name": "stdout",
          "text": [
            "Drive already mounted at /content/drive; to attempt to forcibly remount, call drive.mount(\"/content/drive\", force_remount=True).\n"
          ]
        }
      ]
    },
    {
      "cell_type": "code",
      "execution_count": 5,
      "metadata": {
        "colab": {
          "base_uri": "https://localhost:8080/"
        },
        "id": "K3Ovm1euSUNU",
        "outputId": "6d02eee4-e183-4f16-e76d-a3439ba85767"
      },
      "outputs": [
        {
          "output_type": "stream",
          "name": "stdout",
          "text": [
            "/content/drive/MyDrive/DBM/source\n"
          ]
        }
      ],
      "source": [
        "cd /content/drive/MyDrive/DBM/source/"
      ]
    },
    {
      "cell_type": "code",
      "source": [
        "!python train.py"
      ],
      "metadata": {
        "id": "w0PadSbdY1Xr",
        "colab": {
          "base_uri": "https://localhost:8080/"
        },
        "outputId": "29d7bb1e-bea4-4a54-9ff5-dc23b3cfa7ba"
      },
      "execution_count": 20,
      "outputs": [
        {
          "output_type": "stream",
          "name": "stdout",
          "text": [
            "Train_set: 658\n",
            "Start training RBM model:\n",
            "Epoch 1/32\n",
            "100% 42/42 [00:03<00:00, 11.05it/s]\n",
            "Epoch 2/32\n",
            "100% 42/42 [00:03<00:00, 12.22it/s]\n",
            "Epoch 3/32\n",
            "100% 42/42 [00:04<00:00,  9.08it/s]\n",
            "Epoch 4/32\n",
            "100% 42/42 [00:03<00:00, 11.60it/s]\n",
            "Epoch 5/32\n",
            "100% 42/42 [00:03<00:00, 11.72it/s]\n",
            "Epoch 6/32\n",
            "100% 42/42 [00:03<00:00, 10.61it/s]\n",
            "Epoch 7/32\n",
            "100% 42/42 [00:04<00:00, 10.10it/s]\n",
            "Epoch 8/32\n",
            "100% 42/42 [00:03<00:00, 12.36it/s]\n",
            "Epoch 9/32\n",
            "100% 42/42 [00:03<00:00, 11.85it/s]\n",
            "Epoch 10/32\n",
            "100% 42/42 [00:04<00:00, 10.38it/s]\n",
            "Epoch 11/32\n",
            "100% 42/42 [00:03<00:00, 10.75it/s]\n",
            "Epoch 12/32\n",
            "100% 42/42 [00:03<00:00, 11.90it/s]\n",
            "Epoch 13/32\n",
            "100% 42/42 [00:03<00:00, 12.29it/s]\n",
            "Epoch 14/32\n",
            "100% 42/42 [00:04<00:00,  9.78it/s]\n",
            "Epoch 15/32\n",
            "100% 42/42 [00:03<00:00, 11.13it/s]\n",
            "Epoch 16/32\n",
            "100% 42/42 [00:03<00:00, 12.33it/s]\n",
            "Epoch 17/32\n",
            "100% 42/42 [00:03<00:00, 12.19it/s]\n",
            "Epoch 18/32\n",
            "100% 42/42 [00:04<00:00,  9.83it/s]\n",
            "Epoch 19/32\n",
            "100% 42/42 [00:03<00:00, 11.71it/s]\n",
            "Epoch 20/32\n",
            "100% 42/42 [00:03<00:00, 12.21it/s]\n",
            "Epoch 21/32\n",
            "100% 42/42 [00:03<00:00, 12.25it/s]\n",
            "Epoch 22/32\n",
            "100% 42/42 [00:04<00:00,  9.47it/s]\n",
            "Epoch 23/32\n",
            "100% 42/42 [00:03<00:00, 11.81it/s]\n",
            "Epoch 24/32\n",
            "100% 42/42 [00:03<00:00, 11.96it/s]\n",
            "Epoch 25/32\n",
            "100% 42/42 [00:03<00:00, 11.75it/s]\n",
            "Epoch 26/32\n",
            "100% 42/42 [00:04<00:00,  9.80it/s]\n",
            "Epoch 27/32\n",
            "100% 42/42 [00:04<00:00,  9.93it/s]\n",
            "Epoch 28/32\n",
            "100% 42/42 [00:03<00:00, 10.52it/s]\n",
            "Epoch 29/32\n",
            "100% 42/42 [00:04<00:00,  9.69it/s]\n",
            "Epoch 30/32\n",
            "100% 42/42 [00:03<00:00, 10.81it/s]\n",
            "Epoch 31/32\n",
            "100% 42/42 [00:03<00:00, 12.00it/s]\n",
            "Epoch 32/32\n",
            "100% 42/42 [00:03<00:00, 12.08it/s]\n",
            "\n",
            "==============================\n",
            "Start training classify model:\n",
            "Epoch 1/16\n",
            "100% 42/42 [00:04<00:00,  9.78it/s]\n",
            "Loss: 0.6352299409253257, Acc: 65.5\n",
            "Epoch 2/16\n",
            "100% 42/42 [00:03<00:00, 11.61it/s]\n",
            "Loss: 0.5133724439711798, Acc: 76.14\n",
            "Epoch 3/16\n",
            "100% 42/42 [00:03<00:00, 11.92it/s]\n",
            "Loss: 0.4486784182843708, Acc: 84.95\n",
            "Epoch 4/16\n",
            "100% 42/42 [00:03<00:00, 12.21it/s]\n",
            "Loss: 0.4097904477800642, Acc: 81.76\n",
            "Epoch 5/16\n",
            "100% 42/42 [00:04<00:00,  9.41it/s]\n",
            "Loss: 0.35747430189734414, Acc: 85.71\n",
            "Epoch 6/16\n",
            "100% 42/42 [00:03<00:00, 12.53it/s]\n",
            "Loss: 0.3347455408601534, Acc: 85.71\n",
            "Epoch 7/16\n",
            "100% 42/42 [00:03<00:00, 12.34it/s]\n",
            "Loss: 0.30547384452074766, Acc: 87.54\n",
            "Epoch 8/16\n",
            "100% 42/42 [00:03<00:00, 11.63it/s]\n",
            "Loss: 0.29366150232298033, Acc: 87.84\n",
            "Epoch 9/16\n",
            "100% 42/42 [00:04<00:00,  9.74it/s]\n",
            "Loss: 0.2664991391911393, Acc: 88.75\n",
            "Epoch 10/16\n",
            "100% 42/42 [00:03<00:00, 12.73it/s]\n",
            "Loss: 0.26419973249236745, Acc: 89.67\n",
            "Epoch 11/16\n",
            "100% 42/42 [00:03<00:00, 12.60it/s]\n",
            "Loss: 0.2445890483047281, Acc: 90.27\n",
            "Epoch 12/16\n",
            "100% 42/42 [00:03<00:00, 12.09it/s]\n",
            "Loss: 0.2315052958050122, Acc: 91.64\n",
            "Epoch 13/16\n",
            "100% 42/42 [00:04<00:00,  9.87it/s]\n",
            "Loss: 0.26773589813993093, Acc: 89.82\n",
            "Epoch 14/16\n",
            "100% 42/42 [00:03<00:00, 12.14it/s]\n",
            "Loss: 0.26292460908492404, Acc: 89.21\n",
            "Epoch 15/16\n",
            "100% 42/42 [00:03<00:00, 12.25it/s]\n",
            "Loss: 0.2168041771898667, Acc: 92.1\n",
            "Epoch 16/16\n",
            "100% 42/42 [00:03<00:00, 11.59it/s]\n",
            "Loss: 0.19721444181743122, Acc: 93.47\n",
            "Done training!!!\n"
          ]
        }
      ]
    },
    {
      "cell_type": "code",
      "source": [
        "%matplotlib inline\n",
        "!python eval.py"
      ],
      "metadata": {
        "colab": {
          "base_uri": "https://localhost:8080/"
        },
        "id": "o6rUxkQPHM58",
        "outputId": "e10b2529-de51-4cec-fb31-dceef6647a6e"
      },
      "execution_count": null,
      "outputs": [
        {
          "output_type": "stream",
          "name": "stdout",
          "text": [
            "Loading testing set ....\n",
            "100% 5/5 [00:01<00:00,  4.52it/s]\n",
            "Accuracy on test set: 74.29%\n",
            "F1 score on test set: 0.7631578947368423\n",
            "Figure(640x480)\n"
          ]
        }
      ]
    },
    {
      "cell_type": "code",
      "source": [
        "!python test.py --path ./test_img/1.jpeg"
      ],
      "metadata": {
        "colab": {
          "base_uri": "https://localhost:8080/"
        },
        "id": "50K8oTeuH9O2",
        "outputId": "cbd18721-10dc-4bf3-8d0c-797b2cbef0dd"
      },
      "execution_count": 23,
      "outputs": [
        {
          "output_type": "stream",
          "name": "stdout",
          "text": [
            "Done predict, image has been saved: Result.jpg\n"
          ]
        }
      ]
    }
  ]
}